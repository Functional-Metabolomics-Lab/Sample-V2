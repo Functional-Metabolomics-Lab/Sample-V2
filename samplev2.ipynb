{
 "cells": [
  {
   "cell_type": "markdown",
   "id": "cd971ac4-3e4f-41b2-aa1e-6cb975e0cdd8",
   "metadata": {
    "jp-MarkdownHeadingCollapsed": true,
    "tags": []
   },
   "source": [
    "Title: \"SAMPLE V2\"  \n",
    "Author: Albert Hernandez (alb3rthernandez@gmail.com)  \n",
    "Edited by:  \n",
    "Input file: text file  \n",
    "Output: html_document  \n",
    "Dependencies:  \n",
    "\n",
    "**Get and Set Working Directory**"
   ]
  },
  {
   "cell_type": "code",
   "execution_count": 3,
   "id": "4c1b1c13-f5f4-4e71-b807-54cfb4c7f0bd",
   "metadata": {},
   "outputs": [],
   "source": [
    "setwd('G:/Shared drives/Medical Device Projects/Fraction Collector Project/GCODE Files/SAMPLE MILL FILES/210x297 Path Files')"
   ]
  },
  {
   "cell_type": "markdown",
   "id": "8ecfa147-216f-4cd4-b5a9-cdf6181ef961",
   "metadata": {},
   "source": [
    "**Read in Data**"
   ]
  },
  {
   "cell_type": "code",
   "execution_count": 5,
   "id": "5e7e3e1b-1141-44a8-bdd7-dd72f2024220",
   "metadata": {},
   "outputs": [],
   "source": [
    "data <- read.table(\"neu12table.txt\", header=TRUE)"
   ]
  },
  {
   "cell_type": "markdown",
   "id": "0fa675b9-609c-400d-90e5-6afdec6f1287",
   "metadata": {},
   "source": [
    "**For every other y use the Reverse X-coordinates**"
   ]
  },
  {
   "cell_type": "code",
   "execution_count": null,
   "id": "36a693ee-7e5e-4135-9477-b1530508d818",
   "metadata": {},
   "outputs": [],
   "source": [
    "# don't want length of x_index where it is 0\n",
    "x_red <- which(data$X_index != 0)\n",
    "x_red_ind <- data$Xcoord[x_red]\n",
    "a <- length(data$Y_index)*length(x_red_ind) # vector size\n",
    "\n",
    "# DON'T WANT THE FIRST VALUE SINCE YCOORD ALREADY MOVES TO FIRST X COORD\n",
    "temp <- 1:(length(x_red_ind)-1)\n",
    "v <- 0\n",
    "\n",
    "for (i in 1:(length(data$Y_index))) {\n",
    "  \n",
    "  if (data$Y_index[i]%% 2 == 1) {\n",
    "    \n",
    "    for (j in 1:(length(x_red_ind)-1)) {\n",
    "    \n",
    "      temp[j] = data$Xcoord[j+1]\n",
    "      # DON'T WANT THE FIRST VALUE SINCE YCOORD ALREADY MOVES TO FIRST X COORD\n",
    "    }\n",
    "    \n",
    "  }\n",
    "  \n",
    "  else if (data$Y_index[i]%% 2 == 0) {\n",
    "    \n",
    "    for (j in 1:(length(x_red_ind)-1)) {\n",
    "    \n",
    "      temp[j] = data$Rev_Xcoord[j+1]\n",
    "      # DON'T WANT THE FIRST VALUE SINCE YCOORD ALREADY MOVES TO FIRST X COORD\n",
    "    }\n",
    "    \n",
    "  }\n",
    "  \n",
    "  v= c(v,data$Ycoord[i],temp) # concatenate after each loop\n",
    "  \n",
    "}\n",
    "temp\n",
    "v <- v[-1]\n",
    "v\n",
    "\n",
    "write.table(v, file = \"neu12coords.txt\", row.names = FALSE, col.names = FALSE)\n",
    "\n",
    "# Future Improvements or Points to Consider\n",
    "\n",
    "# 1. The text file contains all our coordinates as characters so each value is surrounded by quotations \"\"\n",
    "# For cleanliness, I removed them but you don't have to: they are not a recognized symbol so UCCNC ignores them,\n",
    "# Therefore, you can directly import the coordinates. \n",
    "\n",
    "# 2. The first two coordinates (first y and X) in each set is the first position of our row, so \n",
    "# consider modifying code such that the first two entries are combined as one character when exporting\n",
    "# So we can directly copy and paste without having to edit the created text file"
   ]
  }
 ],
 "metadata": {
  "kernelspec": {
   "display_name": "R",
   "language": "R",
   "name": "ir"
  },
  "language_info": {
   "codemirror_mode": "r",
   "file_extension": ".r",
   "mimetype": "text/x-r-source",
   "name": "R",
   "pygments_lexer": "r",
   "version": "3.6.1"
  }
 },
 "nbformat": 4,
 "nbformat_minor": 5
}
